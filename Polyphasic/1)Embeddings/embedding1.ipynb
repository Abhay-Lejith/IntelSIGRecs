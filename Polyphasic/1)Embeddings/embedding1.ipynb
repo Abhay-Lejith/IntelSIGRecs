{
 "cells": [
  {
   "cell_type": "code",
   "execution_count": 42,
   "metadata": {},
   "outputs": [],
   "source": [
    "import numpy as np\n",
    "from nltk.tokenize import word_tokenize\n",
    "import math\n",
    "import pandas as pd"
   ]
  },
  {
   "cell_type": "code",
   "execution_count": 43,
   "metadata": {},
   "outputs": [],
   "source": [
    "text = [\n",
    "    \"The Cricket World Cup is a major event in the world of sports.\\n\"+\n",
    "    \"Cricket players from different countries participate in the World Cup.\\n\"+\n",
    "    \"The final match of the World Cup was an exciting game.\\n\"+\n",
    "    \"Batsmen scored heavily in the tournament.\\n\"+\n",
    "    \"The World Cup trophy is awarded to the winning team.\\n\"\n",
    "]"
   ]
  },
  {
   "cell_type": "markdown",
   "metadata": {},
   "source": [
    "Added stop_words which occur frequently and carry no useful meaning. Else tf-idf can assign higher values to these words affecting its overall performance. These will not be included in the word set."
   ]
  },
  {
   "cell_type": "code",
   "execution_count": 44,
   "metadata": {},
   "outputs": [],
   "source": [
    "stop_words=['the','is','a','in','of','from','was','an','to']"
   ]
  },
  {
   "cell_type": "code",
   "execution_count": 45,
   "metadata": {},
   "outputs": [],
   "source": [
    "sentences = []\n",
    "word_set = set()"
   ]
  },
  {
   "cell_type": "code",
   "execution_count": 46,
   "metadata": {},
   "outputs": [],
   "source": [
    "for sent in text:\n",
    "    words = [word.lower() for word in word_tokenize(sent) if word.isalpha() and word not in stop_words]\n",
    "    sentences.append(words)\n",
    "    word_set.update(words)"
   ]
  },
  {
   "cell_type": "code",
   "execution_count": 47,
   "metadata": {},
   "outputs": [
    {
     "name": "stdout",
     "output_type": "stream",
     "text": [
      "{'scored', 'cup', 'game', 'participate', 'batsmen', 'different', 'major', 'countries', 'cricket', 'exciting', 'sports', 'final', 'tournament', 'winning', 'event', 'world', 'the', 'players', 'team', 'match', 'trophy', 'awarded', 'heavily'}\n",
      "[['the', 'cricket', 'world', 'cup', 'major', 'event', 'world', 'sports', 'cricket', 'players', 'different', 'countries', 'participate', 'world', 'cup', 'the', 'final', 'match', 'world', 'cup', 'exciting', 'game', 'batsmen', 'scored', 'heavily', 'tournament', 'the', 'world', 'cup', 'trophy', 'awarded', 'winning', 'team']]\n"
     ]
    }
   ],
   "source": [
    "print(word_set)\n",
    "print(sentences)"
   ]
  },
  {
   "cell_type": "code",
   "execution_count": 48,
   "metadata": {},
   "outputs": [],
   "source": [
    "index_dict = {word: i for i, word in enumerate(word_set)}"
   ]
  },
  {
   "cell_type": "code",
   "execution_count": 49,
   "metadata": {},
   "outputs": [],
   "source": [
    "word_count = {word: 0 for word in word_set}\n",
    "for word in word_set:\n",
    "    for sent in sentences:\n",
    "        if word in sent:\n",
    "            word_count[word] += 1\n",
    "total_documents = len(sentences)"
   ]
  },
  {
   "cell_type": "markdown",
   "metadata": {},
   "source": [
    "added smoothing (+1) to prevent divison by 0 in the calculation of idf"
   ]
  },
  {
   "cell_type": "code",
   "execution_count": 50,
   "metadata": {},
   "outputs": [],
   "source": [
    "def tf_idf(sentence):\n",
    "    tf_idf_vec = np.zeros((len(word_set),))\n",
    "    for word in sentence:\n",
    "        tf = sentence.count(word) / len(sentence)  \n",
    "        idf = math.log(total_documents / (word_count[word] + 1)) \n",
    "        tf_idf_value = tf * idf\n",
    "        tf_idf_vec[index_dict[word]] = tf_idf_value\n",
    "    return tf_idf_vec"
   ]
  },
  {
   "cell_type": "markdown",
   "metadata": {},
   "source": [
    "normalized the tf-idf values by dividing by the euclidean norm i.e. the root of the sum of squares of its elements"
   ]
  },
  {
   "cell_type": "code",
   "execution_count": 51,
   "metadata": {},
   "outputs": [],
   "source": [
    "vectors = [tf_idf(sent) for sent in sentences]\n",
    "vectors = [vec / np.linalg.norm(vec) for vec in vectors]"
   ]
  },
  {
   "cell_type": "code",
   "execution_count": 52,
   "metadata": {},
   "outputs": [
    {
     "name": "stdout",
     "output_type": "stream",
     "text": [
      "[-0.11704115 -0.46816459 -0.11704115 -0.11704115 -0.11704115 -0.11704115\n",
      " -0.11704115 -0.11704115 -0.23408229 -0.11704115 -0.11704115 -0.11704115\n",
      " -0.11704115 -0.11704115 -0.11704115 -0.58520574 -0.35112344 -0.11704115\n",
      " -0.11704115 -0.11704115 -0.11704115 -0.11704115 -0.11704115]\n"
     ]
    }
   ],
   "source": [
    "print(vectors[0])"
   ]
  },
  {
   "cell_type": "code",
   "execution_count": 53,
   "metadata": {},
   "outputs": [],
   "source": [
    "embedding1=pd.DataFrame({'word':list(word_set),'embedding':vectors[0]})"
   ]
  },
  {
   "cell_type": "code",
   "execution_count": 54,
   "metadata": {},
   "outputs": [
    {
     "name": "stdout",
     "output_type": "stream",
     "text": [
      "           word  embedding\n",
      "0        scored  -0.117041\n",
      "1           cup  -0.468165\n",
      "2          game  -0.117041\n",
      "3   participate  -0.117041\n",
      "4       batsmen  -0.117041\n",
      "5     different  -0.117041\n",
      "6         major  -0.117041\n",
      "7     countries  -0.117041\n",
      "8       cricket  -0.234082\n",
      "9      exciting  -0.117041\n",
      "10       sports  -0.117041\n",
      "11        final  -0.117041\n",
      "12   tournament  -0.117041\n",
      "13      winning  -0.117041\n",
      "14        event  -0.117041\n",
      "15        world  -0.585206\n",
      "16          the  -0.351123\n",
      "17      players  -0.117041\n",
      "18         team  -0.117041\n",
      "19        match  -0.117041\n",
      "20       trophy  -0.117041\n",
      "21      awarded  -0.117041\n",
      "22      heavily  -0.117041\n"
     ]
    }
   ],
   "source": [
    "print(embedding1)"
   ]
  },
  {
   "cell_type": "code",
   "execution_count": 55,
   "metadata": {},
   "outputs": [],
   "source": [
    "embedding1.to_csv(\"embedding1.csv\",index=False)"
   ]
  }
 ],
 "metadata": {
  "kernelspec": {
   "display_name": "Python 3",
   "language": "python",
   "name": "python3"
  },
  "language_info": {
   "codemirror_mode": {
    "name": "ipython",
    "version": 3
   },
   "file_extension": ".py",
   "mimetype": "text/x-python",
   "name": "python",
   "nbconvert_exporter": "python",
   "pygments_lexer": "ipython3",
   "version": "3.10.12"
  }
 },
 "nbformat": 4,
 "nbformat_minor": 2
}
