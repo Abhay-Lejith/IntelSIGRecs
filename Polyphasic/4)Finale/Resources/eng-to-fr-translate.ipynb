{
 "cells": [
  {
   "cell_type": "code",
   "execution_count": 1,
   "id": "fc49df94",
   "metadata": {
    "execution": {
     "iopub.execute_input": "2023-10-24T15:02:59.543293Z",
     "iopub.status.busy": "2023-10-24T15:02:59.542961Z",
     "iopub.status.idle": "2023-10-24T15:03:09.370138Z",
     "shell.execute_reply": "2023-10-24T15:03:09.369151Z"
    },
    "id": "8nS1d9rgev8J",
    "papermill": {
     "duration": 9.837841,
     "end_time": "2023-10-24T15:03:09.372542",
     "exception": false,
     "start_time": "2023-10-24T15:02:59.534701",
     "status": "completed"
    },
    "tags": []
   },
   "outputs": [
    {
     "name": "stderr",
     "output_type": "stream",
     "text": [
      "/opt/conda/lib/python3.10/site-packages/scipy/__init__.py:146: UserWarning: A NumPy version >=1.16.5 and <1.23.0 is required for this version of SciPy (detected version 1.23.5\n",
      "  warnings.warn(f\"A NumPy version >={np_minversion} and <{np_maxversion}\"\n"
     ]
    }
   ],
   "source": [
    "import pandas as pd\n",
    "import numpy as np\n",
    "import matplotlib.pyplot as plt\n",
    "from tensorflow import keras\n",
    "from tensorflow.keras.preprocessing.text import Tokenizer\n",
    "from tensorflow.keras.preprocessing.sequence import pad_sequences\n",
    "from tensorflow.keras.models import Model, Sequential\n",
    "from tensorflow.keras.layers import GRU, Input, Dense, TimeDistributed, Activation, RepeatVector, Bidirectional,LSTM, Dropout\n",
    "from tensorflow.keras.layers import Embedding\n",
    "from tensorflow.keras.optimizers import Adam\n",
    "from tensorflow.keras.losses import sparse_categorical_crossentropy\n",
    "from tensorflow.keras.callbacks import ModelCheckpoint\n",
    "import nltk"
   ]
  },
  {
   "cell_type": "code",
   "execution_count": 2,
   "id": "291ca667",
   "metadata": {
    "execution": {
     "iopub.execute_input": "2023-10-24T15:03:09.387788Z",
     "iopub.status.busy": "2023-10-24T15:03:09.386876Z",
     "iopub.status.idle": "2023-10-24T15:03:09.591663Z",
     "shell.execute_reply": "2023-10-24T15:03:09.590845Z"
    },
    "id": "nbtD0ux5ew7d",
    "papermill": {
     "duration": 0.214564,
     "end_time": "2023-10-24T15:03:09.593912",
     "exception": false,
     "start_time": "2023-10-24T15:03:09.379348",
     "status": "completed"
    },
    "tags": []
   },
   "outputs": [],
   "source": [
    "##Loading and processing data\n",
    "eng_fr = pd.read_csv(\"/kaggle/input/wec-translationen-fr/nlp_intel_train.csv\")\n",
    "eng_fr_test = pd.read_csv(\"/kaggle/input/wec-translationen-fr/nlp_intel_test.csv\")"
   ]
  },
  {
   "cell_type": "code",
   "execution_count": 3,
   "id": "8248c15d",
   "metadata": {
    "execution": {
     "iopub.execute_input": "2023-10-24T15:03:09.608659Z",
     "iopub.status.busy": "2023-10-24T15:03:09.607923Z",
     "iopub.status.idle": "2023-10-24T15:03:09.633381Z",
     "shell.execute_reply": "2023-10-24T15:03:09.632483Z"
    },
    "id": "XygqZI1dfcm7",
    "papermill": {
     "duration": 0.034661,
     "end_time": "2023-10-24T15:03:09.635271",
     "exception": false,
     "start_time": "2023-10-24T15:03:09.600610",
     "status": "completed"
    },
    "tags": []
   },
   "outputs": [],
   "source": [
    "eng_fr['en'] = eng_fr['en'].str.lower()"
   ]
  },
  {
   "cell_type": "code",
   "execution_count": 4,
   "id": "c60f9f80",
   "metadata": {
    "execution": {
     "iopub.execute_input": "2023-10-24T15:03:09.650046Z",
     "iopub.status.busy": "2023-10-24T15:03:09.649283Z",
     "iopub.status.idle": "2023-10-24T15:03:09.689079Z",
     "shell.execute_reply": "2023-10-24T15:03:09.688201Z"
    },
    "id": "ZAC4W8BCwmNy",
    "papermill": {
     "duration": 0.049021,
     "end_time": "2023-10-24T15:03:09.690945",
     "exception": false,
     "start_time": "2023-10-24T15:03:09.641924",
     "status": "completed"
    },
    "tags": []
   },
   "outputs": [],
   "source": [
    "eng_fr['fr'] = eng_fr['fr'].str.lower()"
   ]
  },
  {
   "cell_type": "code",
   "execution_count": 5,
   "id": "7f93cd88",
   "metadata": {
    "execution": {
     "iopub.execute_input": "2023-10-24T15:03:09.704756Z",
     "iopub.status.busy": "2023-10-24T15:03:09.704482Z",
     "iopub.status.idle": "2023-10-24T15:03:09.711268Z",
     "shell.execute_reply": "2023-10-24T15:03:09.710447Z"
    },
    "id": "khttnEoegK4-",
    "papermill": {
     "duration": 0.015768,
     "end_time": "2023-10-24T15:03:09.713068",
     "exception": false,
     "start_time": "2023-10-24T15:03:09.697300",
     "status": "completed"
    },
    "tags": []
   },
   "outputs": [],
   "source": [
    "eng_fr_test['en'] = eng_fr_test['en'].str.lower()"
   ]
  },
  {
   "cell_type": "code",
   "execution_count": 6,
   "id": "082c176b",
   "metadata": {
    "execution": {
     "iopub.execute_input": "2023-10-24T15:03:09.726719Z",
     "iopub.status.busy": "2023-10-24T15:03:09.726475Z",
     "iopub.status.idle": "2023-10-24T15:03:09.735744Z",
     "shell.execute_reply": "2023-10-24T15:03:09.734892Z"
    },
    "id": "XPlntV6mgczo",
    "papermill": {
     "duration": 0.01819,
     "end_time": "2023-10-24T15:03:09.737548",
     "exception": false,
     "start_time": "2023-10-24T15:03:09.719358",
     "status": "completed"
    },
    "tags": []
   },
   "outputs": [],
   "source": [
    "eng_fr_test['fr'] = eng_fr_test['fr'].str.lower()\n"
   ]
  },
  {
   "cell_type": "code",
   "execution_count": 7,
   "id": "c4c1a50a",
   "metadata": {
    "execution": {
     "iopub.execute_input": "2023-10-24T15:03:09.751318Z",
     "iopub.status.busy": "2023-10-24T15:03:09.751022Z",
     "iopub.status.idle": "2023-10-24T15:03:09.768384Z",
     "shell.execute_reply": "2023-10-24T15:03:09.767507Z"
    },
    "id": "Bs9CABoPfty1",
    "papermill": {
     "duration": 0.026617,
     "end_time": "2023-10-24T15:03:09.770544",
     "exception": false,
     "start_time": "2023-10-24T15:03:09.743927",
     "status": "completed"
    },
    "tags": []
   },
   "outputs": [],
   "source": [
    "eng_fr = eng_fr.dropna(axis=0, how=\"any\", subset=None, inplace=False)\n",
    "eng_fr_test = eng_fr_test.dropna(axis=0, how=\"any\", subset=None, inplace=False)"
   ]
  },
  {
   "cell_type": "code",
   "execution_count": 8,
   "id": "58dea19c",
   "metadata": {
    "execution": {
     "iopub.execute_input": "2023-10-24T15:03:09.784401Z",
     "iopub.status.busy": "2023-10-24T15:03:09.784120Z",
     "iopub.status.idle": "2023-10-24T15:03:09.798541Z",
     "shell.execute_reply": "2023-10-24T15:03:09.797694Z"
    },
    "id": "kNaYrpCiwq-8",
    "outputId": "9a2908f4-75fd-4ded-fcd3-f3be7309d679",
    "papermill": {
     "duration": 0.023604,
     "end_time": "2023-10-24T15:03:09.800528",
     "exception": false,
     "start_time": "2023-10-24T15:03:09.776924",
     "status": "completed"
    },
    "tags": []
   },
   "outputs": [
    {
     "data": {
      "text/html": [
       "<div>\n",
       "<style scoped>\n",
       "    .dataframe tbody tr th:only-of-type {\n",
       "        vertical-align: middle;\n",
       "    }\n",
       "\n",
       "    .dataframe tbody tr th {\n",
       "        vertical-align: top;\n",
       "    }\n",
       "\n",
       "    .dataframe thead th {\n",
       "        text-align: right;\n",
       "    }\n",
       "</style>\n",
       "<table border=\"1\" class=\"dataframe\">\n",
       "  <thead>\n",
       "    <tr style=\"text-align: right;\">\n",
       "      <th></th>\n",
       "      <th>Unnamed: 0</th>\n",
       "      <th>en</th>\n",
       "      <th>fr</th>\n",
       "    </tr>\n",
       "  </thead>\n",
       "  <tbody>\n",
       "    <tr>\n",
       "      <th>0</th>\n",
       "      <td>1000</td>\n",
       "      <td>in 1981, he founded the astronomy club of rimo...</td>\n",
       "      <td>en 1981, il fonde le club d'astronomie de rimo...</td>\n",
       "    </tr>\n",
       "    <tr>\n",
       "      <th>1</th>\n",
       "      <td>1001</td>\n",
       "      <td>the club was very active and they twice organi...</td>\n",
       "      <td>le club est très actif et organise à deux occa...</td>\n",
       "    </tr>\n",
       "    <tr>\n",
       "      <th>2</th>\n",
       "      <td>1002</td>\n",
       "      <td>in 1983, lemay initiated the first joint meeti...</td>\n",
       "      <td>en 1983, il est l'instigateur à québec du cong...</td>\n",
       "    </tr>\n",
       "    <tr>\n",
       "      <th>3</th>\n",
       "      <td>1003</td>\n",
       "      <td>the conference took place in quebec city, and ...</td>\n",
       "      <td>le congrès est un franc succès et regroupe pas...</td>\n",
       "    </tr>\n",
       "    <tr>\n",
       "      <th>4</th>\n",
       "      <td>1004</td>\n",
       "      <td>from 1990 to 1992, he was the national preside...</td>\n",
       "      <td>de 1990 à 1992, il est président national de l...</td>\n",
       "    </tr>\n",
       "    <tr>\n",
       "      <th>...</th>\n",
       "      <td>...</td>\n",
       "      <td>...</td>\n",
       "      <td>...</td>\n",
       "    </tr>\n",
       "    <tr>\n",
       "      <th>17995</th>\n",
       "      <td>18995</td>\n",
       "      <td>imports of shrimp and prawn recorded also a sh...</td>\n",
       "      <td>en 2001, une forte baisse des importations jap...</td>\n",
       "    </tr>\n",
       "    <tr>\n",
       "      <th>17996</th>\n",
       "      <td>18996</td>\n",
       "      <td>the volume of import decreased by 16.3% from 9...</td>\n",
       "      <td>en effet, entre 2000 et 2001, le volume des im...</td>\n",
       "    </tr>\n",
       "    <tr>\n",
       "      <th>17997</th>\n",
       "      <td>18997</td>\n",
       "      <td>the market for northern shrimp (pandalus borea...</td>\n",
       "      <td>de plus, le marché mondial des crevettes nordi...</td>\n",
       "    </tr>\n",
       "    <tr>\n",
       "      <th>17998</th>\n",
       "      <td>18998</td>\n",
       "      <td>imports of molluscs (almost 100% of this being...</td>\n",
       "      <td>entre 2000 et 2001, les importations de mollus...</td>\n",
       "    </tr>\n",
       "    <tr>\n",
       "      <th>17999</th>\n",
       "      <td>18999</td>\n",
       "      <td>of the group other than finfish and crustacean...</td>\n",
       "      <td>parmi les produits autres que les poissons à n...</td>\n",
       "    </tr>\n",
       "  </tbody>\n",
       "</table>\n",
       "<p>17999 rows × 3 columns</p>\n",
       "</div>"
      ],
      "text/plain": [
       "       Unnamed: 0                                                 en  \\\n",
       "0            1000  in 1981, he founded the astronomy club of rimo...   \n",
       "1            1001  the club was very active and they twice organi...   \n",
       "2            1002  in 1983, lemay initiated the first joint meeti...   \n",
       "3            1003  the conference took place in quebec city, and ...   \n",
       "4            1004  from 1990 to 1992, he was the national preside...   \n",
       "...           ...                                                ...   \n",
       "17995       18995  imports of shrimp and prawn recorded also a sh...   \n",
       "17996       18996  the volume of import decreased by 16.3% from 9...   \n",
       "17997       18997  the market for northern shrimp (pandalus borea...   \n",
       "17998       18998  imports of molluscs (almost 100% of this being...   \n",
       "17999       18999  of the group other than finfish and crustacean...   \n",
       "\n",
       "                                                      fr  \n",
       "0      en 1981, il fonde le club d'astronomie de rimo...  \n",
       "1      le club est très actif et organise à deux occa...  \n",
       "2      en 1983, il est l'instigateur à québec du cong...  \n",
       "3      le congrès est un franc succès et regroupe pas...  \n",
       "4      de 1990 à 1992, il est président national de l...  \n",
       "...                                                  ...  \n",
       "17995  en 2001, une forte baisse des importations jap...  \n",
       "17996  en effet, entre 2000 et 2001, le volume des im...  \n",
       "17997  de plus, le marché mondial des crevettes nordi...  \n",
       "17998  entre 2000 et 2001, les importations de mollus...  \n",
       "17999  parmi les produits autres que les poissons à n...  \n",
       "\n",
       "[17999 rows x 3 columns]"
      ]
     },
     "execution_count": 8,
     "metadata": {},
     "output_type": "execute_result"
    }
   ],
   "source": [
    "eng_fr"
   ]
  },
  {
   "cell_type": "code",
   "execution_count": 9,
   "id": "be8e006b",
   "metadata": {
    "execution": {
     "iopub.execute_input": "2023-10-24T15:03:09.814996Z",
     "iopub.status.busy": "2023-10-24T15:03:09.814708Z",
     "iopub.status.idle": "2023-10-24T15:03:09.819947Z",
     "shell.execute_reply": "2023-10-24T15:03:09.819225Z"
    },
    "id": "cenL2y2df2p1",
    "papermill": {
     "duration": 0.014635,
     "end_time": "2023-10-24T15:03:09.821793",
     "exception": false,
     "start_time": "2023-10-24T15:03:09.807158",
     "status": "completed"
    },
    "tags": []
   },
   "outputs": [],
   "source": [
    "##Tokenizer and padding\n",
    "\n",
    "def tokenize(data):\n",
    "  t = Tokenizer()\n",
    "  t.fit_on_texts(data)\n",
    "  return t\n",
    "def training_sequences(tokenizer, m_length, data):\n",
    "    seq = tokenizer.texts_to_sequences(data)\n",
    "    seq = pad_sequences(seq, maxlen = m_length, padding='post',truncating='post')\n",
    "    return seq\n"
   ]
  },
  {
   "cell_type": "code",
   "execution_count": 10,
   "id": "84ccd5a7",
   "metadata": {
    "execution": {
     "iopub.execute_input": "2023-10-24T15:03:09.836616Z",
     "iopub.status.busy": "2023-10-24T15:03:09.835840Z",
     "iopub.status.idle": "2023-10-24T15:03:09.840977Z",
     "shell.execute_reply": "2023-10-24T15:03:09.840316Z"
    },
    "id": "dKK20PUMg4K3",
    "papermill": {
     "duration": 0.014455,
     "end_time": "2023-10-24T15:03:09.842902",
     "exception": false,
     "start_time": "2023-10-24T15:03:09.828447",
     "status": "completed"
    },
    "tags": []
   },
   "outputs": [],
   "source": [
    "#Preprocessing by tokenization and padding\n",
    "#return processed data and tokenizer\n",
    "def preprocess(x, y):\n",
    "\n",
    "    x_tk = tokenize(x)\n",
    "    y_tk = tokenize(y)\n",
    "\n",
    "    preprocess_x = training_sequences(x_tk,None,x)\n",
    "    preprocess_y = training_sequences(y_tk,None,y)\n",
    "\n",
    "    # Keras's sparse_categorical_crossentropy function requires the labels to be in 3 dimensions\n",
    "    preprocess_y = preprocess_y.reshape(*preprocess_y.shape, 1)\n",
    "\n",
    "    return preprocess_x, preprocess_y, x_tk, y_tk"
   ]
  },
  {
   "cell_type": "code",
   "execution_count": 11,
   "id": "b9d2fc2f",
   "metadata": {
    "execution": {
     "iopub.execute_input": "2023-10-24T15:03:09.857262Z",
     "iopub.status.busy": "2023-10-24T15:03:09.856983Z",
     "iopub.status.idle": "2023-10-24T15:03:12.353594Z",
     "shell.execute_reply": "2023-10-24T15:03:12.352799Z"
    },
    "id": "FWl-vgZziSeD",
    "papermill": {
     "duration": 2.506297,
     "end_time": "2023-10-24T15:03:12.355786",
     "exception": false,
     "start_time": "2023-10-24T15:03:09.849489",
     "status": "completed"
    },
    "tags": []
   },
   "outputs": [],
   "source": [
    "preproc_english_sentences, preproc_french_sentences, english_tokenizer, french_tokenizer = preprocess(eng_fr[\"en\"].tolist(), eng_fr[\"fr\"].tolist())"
   ]
  },
  {
   "cell_type": "code",
   "execution_count": 12,
   "id": "744bbe74",
   "metadata": {
    "execution": {
     "iopub.execute_input": "2023-10-24T15:03:12.371196Z",
     "iopub.status.busy": "2023-10-24T15:03:12.370569Z",
     "iopub.status.idle": "2023-10-24T15:03:12.378208Z",
     "shell.execute_reply": "2023-10-24T15:03:12.377326Z"
    },
    "id": "D3bKSo3dyYM7",
    "outputId": "76dbadf2-6496-434b-9c0b-502e30f3bb3f",
    "papermill": {
     "duration": 0.017421,
     "end_time": "2023-10-24T15:03:12.380161",
     "exception": false,
     "start_time": "2023-10-24T15:03:12.362740",
     "status": "completed"
    },
    "tags": []
   },
   "outputs": [
    {
     "data": {
      "text/plain": [
       "array([    4,  3430,   241,  5895,     1,   904,  2716,     2, 11594,\n",
       "           4,  1306,     0,     0,     0,     0,     0,     0,     0,\n",
       "           0,     0,     0,     0,     0,     0,     0,     0,     0,\n",
       "           0,     0,     0,     0,     0,     0,     0,     0,     0,\n",
       "           0,     0,     0,     0,     0,     0,     0,     0,     0,\n",
       "           0,     0,     0,     0,     0,     0,     0,     0,     0,\n",
       "           0,     0,     0,     0,     0,     0,     0,     0,     0,\n",
       "           0,     0,     0,     0,     0,     0,     0,     0,     0,\n",
       "           0,     0,     0,     0,     0,     0,     0,     0,     0,\n",
       "           0,     0,     0,     0,     0,     0,     0,     0,     0,\n",
       "           0,     0,     0,     0,     0,     0,     0,     0,     0,\n",
       "           0,     0,     0,     0,     0,     0,     0,     0,     0,\n",
       "           0,     0,     0,     0,     0,     0,     0,     0,     0,\n",
       "           0,     0,     0,     0,     0,     0,     0,     0,     0,\n",
       "           0,     0,     0,     0,     0,     0,     0,     0,     0,\n",
       "           0,     0,     0,     0,     0,     0,     0,     0,     0,\n",
       "           0,     0,     0,     0,     0,     0,     0,     0,     0,\n",
       "           0,     0,     0,     0,     0,     0,     0,     0,     0,\n",
       "           0,     0,     0,     0,     0,     0,     0,     0,     0,\n",
       "           0,     0,     0,     0,     0,     0,     0,     0,     0,\n",
       "           0,     0,     0,     0,     0,     0,     0,     0,     0,\n",
       "           0,     0,     0,     0,     0,     0,     0,     0,     0,\n",
       "           0,     0,     0,     0,     0,     0,     0,     0,     0,\n",
       "           0,     0,     0,     0,     0,     0,     0,     0,     0,\n",
       "           0,     0,     0,     0,     0,     0,     0,     0,     0,\n",
       "           0,     0,     0,     0,     0,     0,     0,     0,     0,\n",
       "           0,     0,     0,     0,     0,     0,     0,     0,     0,\n",
       "           0,     0,     0,     0,     0,     0,     0,     0,     0,\n",
       "           0,     0,     0,     0,     0,     0,     0,     0,     0,\n",
       "           0,     0,     0,     0,     0,     0,     0,     0,     0,\n",
       "           0,     0,     0,     0,     0,     0,     0,     0,     0,\n",
       "           0,     0,     0,     0,     0,     0,     0,     0,     0,\n",
       "           0,     0,     0,     0,     0,     0,     0,     0,     0,\n",
       "           0,     0,     0,     0,     0,     0,     0,     0,     0,\n",
       "           0,     0,     0,     0,     0,     0,     0,     0,     0,\n",
       "           0,     0,     0,     0,     0,     0,     0,     0,     0,\n",
       "           0,     0,     0,     0,     0,     0,     0,     0,     0,\n",
       "           0,     0,     0,     0,     0,     0,     0,     0,     0,\n",
       "           0,     0,     0,     0,     0,     0,     0,     0,     0,\n",
       "           0,     0,     0,     0,     0,     0,     0,     0,     0,\n",
       "           0,     0,     0,     0,     0,     0,     0,     0,     0,\n",
       "           0,     0,     0,     0,     0,     0,     0,     0,     0,\n",
       "           0,     0,     0,     0,     0,     0,     0,     0,     0,\n",
       "           0,     0,     0,     0,     0,     0,     0,     0,     0,\n",
       "           0,     0,     0,     0,     0,     0,     0,     0,     0,\n",
       "           0,     0], dtype=int32)"
      ]
     },
     "execution_count": 12,
     "metadata": {},
     "output_type": "execute_result"
    }
   ],
   "source": [
    "preproc_english_sentences[0,:]"
   ]
  },
  {
   "cell_type": "code",
   "execution_count": 13,
   "id": "63dcec56",
   "metadata": {
    "execution": {
     "iopub.execute_input": "2023-10-24T15:03:12.394917Z",
     "iopub.status.busy": "2023-10-24T15:03:12.394648Z",
     "iopub.status.idle": "2023-10-24T15:03:12.400555Z",
     "shell.execute_reply": "2023-10-24T15:03:12.399767Z"
    },
    "id": "-yU5F-7eii6N",
    "outputId": "8f301f3c-3342-4846-cd4b-f27d4897b02c",
    "papermill": {
     "duration": 0.015491,
     "end_time": "2023-10-24T15:03:12.402511",
     "exception": false,
     "start_time": "2023-10-24T15:03:12.387020",
     "status": "completed"
    },
    "tags": []
   },
   "outputs": [
    {
     "name": "stdout",
     "output_type": "stream",
     "text": [
      "Max English sentence length: 407\n",
      "Max French sentence length: 453\n",
      "English vocabulary size: 21789\n",
      "French vocabulary size: 27712\n"
     ]
    }
   ],
   "source": [
    "max_english_sequence_length = preproc_english_sentences.shape[1]\n",
    "max_french_sequence_length = preproc_french_sentences.shape[1]\n",
    "english_vocab_size = len(english_tokenizer.word_index)\n",
    "french_vocab_size = len(french_tokenizer.word_index)\n",
    "\n",
    "print(\"Max English sentence length:\", max_english_sequence_length)\n",
    "print(\"Max French sentence length:\", max_french_sequence_length)\n",
    "print(\"English vocabulary size:\", english_vocab_size)\n",
    "print(\"French vocabulary size:\", french_vocab_size)"
   ]
  },
  {
   "cell_type": "code",
   "execution_count": 14,
   "id": "e451174f",
   "metadata": {
    "execution": {
     "iopub.execute_input": "2023-10-24T15:03:12.417283Z",
     "iopub.status.busy": "2023-10-24T15:03:12.417011Z",
     "iopub.status.idle": "2023-10-24T15:03:12.421817Z",
     "shell.execute_reply": "2023-10-24T15:03:12.421008Z"
    },
    "id": "tP1THRqril3N",
    "papermill": {
     "duration": 0.014235,
     "end_time": "2023-10-24T15:03:12.423665",
     "exception": false,
     "start_time": "2023-10-24T15:03:12.409430",
     "status": "completed"
    },
    "tags": []
   },
   "outputs": [],
   "source": [
    "#Final output funtion\n",
    "def logits_to_text(logits, tokenizer):\n",
    "\n",
    "    index_to_words = {id: word for word, id in tokenizer.word_index.items()}\n",
    "    index_to_words[0] = ' '\n",
    "\n",
    "    return ' '.join([index_to_words[prediction] for prediction in np.argmax(logits, 1)])"
   ]
  },
  {
   "cell_type": "code",
   "execution_count": 15,
   "id": "cad1f7a7",
   "metadata": {
    "execution": {
     "iopub.execute_input": "2023-10-24T15:03:12.438531Z",
     "iopub.status.busy": "2023-10-24T15:03:12.438292Z",
     "iopub.status.idle": "2023-10-24T15:03:12.445375Z",
     "shell.execute_reply": "2023-10-24T15:03:12.444688Z"
    },
    "id": "Eoy5079ni0z3",
    "papermill": {
     "duration": 0.016686,
     "end_time": "2023-10-24T15:03:12.447197",
     "exception": false,
     "start_time": "2023-10-24T15:03:12.430511",
     "status": "completed"
    },
    "tags": []
   },
   "outputs": [],
   "source": [
    "def bd_model(input_shape, output_sequence_length, english_vocab_size, french_vocab_size):\n",
    "\n",
    "    learning_rate = 0.001\n",
    "\n",
    "    # Build the layers\n",
    "    model = Sequential()\n",
    "    model.add(Embedding(english_vocab_size, 256, input_length=input_shape[1], input_shape=input_shape[1:]))\n",
    "    model.add(GRU(256,return_sequences=True))\n",
    "    model.add(TimeDistributed(Dense(1024, activation='relu')))\n",
    "    model.add(Dropout(0.5))\n",
    "    model.add(TimeDistributed(Dense(french_vocab_size, activation='softmax')))\n",
    "    # Compile model\n",
    "    model.compile(loss=sparse_categorical_crossentropy,\n",
    "                  optimizer=Adam(learning_rate),\n",
    "                  metrics=['accuracy'])\n",
    "    return model"
   ]
  },
  {
   "cell_type": "code",
   "execution_count": 16,
   "id": "ea0b445b",
   "metadata": {
    "execution": {
     "iopub.execute_input": "2023-10-24T15:03:12.462011Z",
     "iopub.status.busy": "2023-10-24T15:03:12.461775Z",
     "iopub.status.idle": "2023-10-24T15:03:12.466920Z",
     "shell.execute_reply": "2023-10-24T15:03:12.466098Z"
    },
    "id": "gXwvOYJF6-lc",
    "outputId": "67399036-7f5f-4e1e-888f-c0e6e3406d5d",
    "papermill": {
     "duration": 0.014831,
     "end_time": "2023-10-24T15:03:12.468858",
     "exception": false,
     "start_time": "2023-10-24T15:03:12.454027",
     "status": "completed"
    },
    "tags": []
   },
   "outputs": [
    {
     "data": {
      "text/plain": [
       "453"
      ]
     },
     "execution_count": 16,
     "metadata": {},
     "output_type": "execute_result"
    }
   ],
   "source": [
    "preproc_french_sentences.shape[1]"
   ]
  },
  {
   "cell_type": "code",
   "execution_count": 17,
   "id": "0abbd7b5",
   "metadata": {
    "execution": {
     "iopub.execute_input": "2023-10-24T15:03:12.483671Z",
     "iopub.status.busy": "2023-10-24T15:03:12.483434Z",
     "iopub.status.idle": "2023-10-24T15:03:12.555220Z",
     "shell.execute_reply": "2023-10-24T15:03:12.554297Z"
    },
    "id": "G35RGoOj6H0k",
    "outputId": "59e8e7a6-c5ce-42c1-872a-5394d2f16883",
    "papermill": {
     "duration": 0.081579,
     "end_time": "2023-10-24T15:03:12.557357",
     "exception": false,
     "start_time": "2023-10-24T15:03:12.475778",
     "status": "completed"
    },
    "tags": []
   },
   "outputs": [
    {
     "data": {
      "text/plain": [
       "array([    4,  3430,   241,  5895,     1,   904,  2716,     2, 11594,\n",
       "           4,  1306,     0,     0,     0,     0,     0,     0,     0,\n",
       "           0,     0,     0,     0,     0,     0,     0,     0,     0,\n",
       "           0,     0,     0,     0,     0,     0,     0,     0,     0,\n",
       "           0,     0,     0,     0,     0,     0,     0,     0,     0,\n",
       "           0,     0,     0,     0,     0,     0,     0,     0,     0,\n",
       "           0,     0,     0,     0,     0,     0,     0,     0,     0,\n",
       "           0,     0,     0,     0,     0,     0,     0,     0,     0,\n",
       "           0,     0,     0,     0,     0,     0,     0,     0,     0,\n",
       "           0,     0,     0,     0,     0,     0,     0,     0,     0,\n",
       "           0,     0,     0,     0,     0,     0,     0,     0,     0,\n",
       "           0,     0,     0,     0,     0,     0,     0,     0,     0,\n",
       "           0,     0,     0,     0,     0,     0,     0,     0,     0,\n",
       "           0,     0,     0,     0,     0,     0,     0,     0,     0,\n",
       "           0,     0,     0,     0,     0,     0,     0,     0,     0,\n",
       "           0,     0,     0,     0,     0,     0,     0,     0,     0,\n",
       "           0,     0,     0,     0,     0,     0,     0,     0,     0,\n",
       "           0,     0,     0,     0,     0,     0,     0,     0,     0,\n",
       "           0,     0,     0,     0,     0,     0,     0,     0,     0,\n",
       "           0,     0,     0,     0,     0,     0,     0,     0,     0,\n",
       "           0,     0,     0,     0,     0,     0,     0,     0,     0,\n",
       "           0,     0,     0,     0,     0,     0,     0,     0,     0,\n",
       "           0,     0,     0,     0,     0,     0,     0,     0,     0,\n",
       "           0,     0,     0,     0,     0,     0,     0,     0,     0,\n",
       "           0,     0,     0,     0,     0,     0,     0,     0,     0,\n",
       "           0,     0,     0,     0,     0,     0,     0,     0,     0,\n",
       "           0,     0,     0,     0,     0,     0,     0,     0,     0,\n",
       "           0,     0,     0,     0,     0,     0,     0,     0,     0,\n",
       "           0,     0,     0,     0,     0,     0,     0,     0,     0,\n",
       "           0,     0,     0,     0,     0,     0,     0,     0,     0,\n",
       "           0,     0,     0,     0,     0,     0,     0,     0,     0,\n",
       "           0,     0,     0,     0,     0,     0,     0,     0,     0,\n",
       "           0,     0,     0,     0,     0,     0,     0,     0,     0,\n",
       "           0,     0,     0,     0,     0,     0,     0,     0,     0,\n",
       "           0,     0,     0,     0,     0,     0,     0,     0,     0,\n",
       "           0,     0,     0,     0,     0,     0,     0,     0,     0,\n",
       "           0,     0,     0,     0,     0,     0,     0,     0,     0,\n",
       "           0,     0,     0,     0,     0,     0,     0,     0,     0,\n",
       "           0,     0,     0,     0,     0,     0,     0,     0,     0,\n",
       "           0,     0,     0,     0,     0,     0,     0,     0,     0,\n",
       "           0,     0,     0,     0,     0,     0,     0,     0,     0,\n",
       "           0,     0,     0,     0,     0,     0,     0,     0,     0,\n",
       "           0,     0,     0,     0,     0,     0,     0,     0,     0,\n",
       "           0,     0,     0,     0,     0,     0,     0,     0,     0,\n",
       "           0,     0,     0,     0,     0,     0,     0,     0,     0,\n",
       "           0,     0,     0,     0,     0,     0,     0,     0,     0,\n",
       "           0,     0,     0,     0,     0,     0,     0,     0,     0,\n",
       "           0,     0,     0,     0,     0,     0,     0,     0,     0,\n",
       "           0,     0,     0,     0,     0,     0,     0,     0,     0,\n",
       "           0,     0,     0,     0,     0,     0,     0,     0,     0,\n",
       "           0,     0,     0], dtype=int32)"
      ]
     },
     "execution_count": 17,
     "metadata": {},
     "output_type": "execute_result"
    }
   ],
   "source": [
    "tmp_x = pad_sequences(preproc_english_sentences, maxlen=preproc_french_sentences.shape[1], padding='post',truncating='post')\n",
    "tmp_x[0,:]"
   ]
  },
  {
   "cell_type": "code",
   "execution_count": null,
   "id": "66f8b875",
   "metadata": {
    "id": "Rq-WQhnq6HrZ",
    "papermill": {
     "duration": 0.007309,
     "end_time": "2023-10-24T15:03:12.572120",
     "exception": false,
     "start_time": "2023-10-24T15:03:12.564811",
     "status": "completed"
    },
    "tags": []
   },
   "outputs": [],
   "source": []
  },
  {
   "cell_type": "code",
   "execution_count": 18,
   "id": "285d4e4c",
   "metadata": {
    "execution": {
     "iopub.execute_input": "2023-10-24T15:03:12.589236Z",
     "iopub.status.busy": "2023-10-24T15:03:12.588413Z",
     "iopub.status.idle": "2023-10-24T19:47:22.828995Z",
     "shell.execute_reply": "2023-10-24T19:47:22.828091Z"
    },
    "id": "Bu1W91SAi1mv",
    "outputId": "fad67ef4-6313-44e6-bc76-68322cc3f10e",
    "papermill": {
     "duration": 17052.331467,
     "end_time": "2023-10-24T19:47:24.911376",
     "exception": false,
     "start_time": "2023-10-24T15:03:12.579909",
     "status": "completed"
    },
    "tags": []
   },
   "outputs": [
    {
     "name": "stdout",
     "output_type": "stream",
     "text": [
      "Model: \"sequential\"\n",
      "_________________________________________________________________\n",
      " Layer (type)                Output Shape              Param #   \n",
      "=================================================================\n",
      " embedding (Embedding)       (None, 453, 256)          5578240   \n",
      "                                                                 \n",
      " gru (GRU)                   (None, 453, 256)          394752    \n",
      "                                                                 \n",
      " time_distributed (TimeDistr  (None, 453, 1024)        263168    \n",
      " ibuted)                                                         \n",
      "                                                                 \n",
      " dropout (Dropout)           (None, 453, 1024)         0         \n",
      "                                                                 \n",
      " time_distributed_1 (TimeDis  (None, 453, 27713)       28405825  \n",
      " tributed)                                                       \n",
      "                                                                 \n",
      "=================================================================\n",
      "Total params: 34,641,985\n",
      "Trainable params: 34,641,985\n",
      "Non-trainable params: 0\n",
      "_________________________________________________________________\n",
      "Epoch 1/60\n",
      "450/450 [==============================] - 319s 696ms/step - loss: 0.5932 - accuracy: 0.9503 - val_loss: 0.3609 - val_accuracy: 0.9546\n",
      "Epoch 2/60\n",
      "450/450 [==============================] - 291s 646ms/step - loss: 0.3786 - accuracy: 0.9530 - val_loss: 0.3586 - val_accuracy: 0.9547\n",
      "Epoch 3/60\n",
      "450/450 [==============================] - 286s 635ms/step - loss: 0.3713 - accuracy: 0.9531 - val_loss: 0.3593 - val_accuracy: 0.9548\n",
      "Epoch 4/60\n",
      "450/450 [==============================] - 284s 632ms/step - loss: 0.3645 - accuracy: 0.9532 - val_loss: 0.3610 - val_accuracy: 0.9548\n",
      "Epoch 5/60\n",
      "450/450 [==============================] - 283s 630ms/step - loss: 0.3558 - accuracy: 0.9533 - val_loss: 0.3570 - val_accuracy: 0.9549\n",
      "Epoch 6/60\n",
      "450/450 [==============================] - 284s 631ms/step - loss: 0.3474 - accuracy: 0.9536 - val_loss: 0.3561 - val_accuracy: 0.9549\n",
      "Epoch 7/60\n",
      "450/450 [==============================] - 283s 630ms/step - loss: 0.3376 - accuracy: 0.9540 - val_loss: 0.3568 - val_accuracy: 0.9549\n",
      "Epoch 8/60\n",
      "450/450 [==============================] - 283s 628ms/step - loss: 0.3265 - accuracy: 0.9544 - val_loss: 0.3553 - val_accuracy: 0.9546\n",
      "Epoch 9/60\n",
      "450/450 [==============================] - 283s 629ms/step - loss: 0.3147 - accuracy: 0.9549 - val_loss: 0.3544 - val_accuracy: 0.9546\n",
      "Epoch 10/60\n",
      "450/450 [==============================] - 282s 626ms/step - loss: 0.3024 - accuracy: 0.9554 - val_loss: 0.3548 - val_accuracy: 0.9546\n",
      "Epoch 11/60\n",
      "450/450 [==============================] - 282s 627ms/step - loss: 0.2895 - accuracy: 0.9559 - val_loss: 0.3580 - val_accuracy: 0.9547\n",
      "Epoch 12/60\n",
      "450/450 [==============================] - 283s 628ms/step - loss: 0.2762 - accuracy: 0.9564 - val_loss: 0.3603 - val_accuracy: 0.9547\n",
      "Epoch 13/60\n",
      "450/450 [==============================] - 283s 628ms/step - loss: 0.2624 - accuracy: 0.9570 - val_loss: 0.3629 - val_accuracy: 0.9545\n",
      "Epoch 14/60\n",
      "450/450 [==============================] - 283s 629ms/step - loss: 0.2488 - accuracy: 0.9577 - val_loss: 0.3645 - val_accuracy: 0.9538\n",
      "Epoch 15/60\n",
      "450/450 [==============================] - 282s 627ms/step - loss: 0.2352 - accuracy: 0.9586 - val_loss: 0.3698 - val_accuracy: 0.9544\n",
      "Epoch 16/60\n",
      "450/450 [==============================] - 283s 629ms/step - loss: 0.2222 - accuracy: 0.9594 - val_loss: 0.3726 - val_accuracy: 0.9541\n",
      "Epoch 17/60\n",
      "450/450 [==============================] - 283s 628ms/step - loss: 0.2101 - accuracy: 0.9605 - val_loss: 0.3766 - val_accuracy: 0.9539\n",
      "Epoch 18/60\n",
      "450/450 [==============================] - 283s 629ms/step - loss: 0.1988 - accuracy: 0.9616 - val_loss: 0.3818 - val_accuracy: 0.9539\n",
      "Epoch 19/60\n",
      "450/450 [==============================] - 283s 628ms/step - loss: 0.1890 - accuracy: 0.9627 - val_loss: 0.3851 - val_accuracy: 0.9536\n",
      "Epoch 20/60\n",
      "450/450 [==============================] - 284s 631ms/step - loss: 0.1802 - accuracy: 0.9637 - val_loss: 0.3910 - val_accuracy: 0.9537\n",
      "Epoch 21/60\n",
      "450/450 [==============================] - 283s 630ms/step - loss: 0.1725 - accuracy: 0.9646 - val_loss: 0.3959 - val_accuracy: 0.9539\n",
      "Epoch 22/60\n",
      "450/450 [==============================] - 283s 629ms/step - loss: 0.1656 - accuracy: 0.9655 - val_loss: 0.3976 - val_accuracy: 0.9538\n",
      "Epoch 23/60\n",
      "450/450 [==============================] - 283s 630ms/step - loss: 0.1591 - accuracy: 0.9664 - val_loss: 0.4018 - val_accuracy: 0.9539\n",
      "Epoch 24/60\n",
      "450/450 [==============================] - 283s 630ms/step - loss: 0.1533 - accuracy: 0.9672 - val_loss: 0.4091 - val_accuracy: 0.9542\n",
      "Epoch 25/60\n",
      "450/450 [==============================] - 284s 630ms/step - loss: 0.1477 - accuracy: 0.9680 - val_loss: 0.4092 - val_accuracy: 0.9537\n",
      "Epoch 26/60\n",
      "450/450 [==============================] - 283s 630ms/step - loss: 0.1432 - accuracy: 0.9686 - val_loss: 0.4102 - val_accuracy: 0.9535\n",
      "Epoch 27/60\n",
      "450/450 [==============================] - 283s 630ms/step - loss: 0.1386 - accuracy: 0.9693 - val_loss: 0.4180 - val_accuracy: 0.9532\n",
      "Epoch 28/60\n",
      "450/450 [==============================] - 283s 630ms/step - loss: 0.1345 - accuracy: 0.9699 - val_loss: 0.4193 - val_accuracy: 0.9534\n",
      "Epoch 29/60\n",
      "450/450 [==============================] - 284s 631ms/step - loss: 0.1304 - accuracy: 0.9706 - val_loss: 0.4240 - val_accuracy: 0.9533\n",
      "Epoch 30/60\n",
      "450/450 [==============================] - 284s 630ms/step - loss: 0.1270 - accuracy: 0.9711 - val_loss: 0.4263 - val_accuracy: 0.9534\n",
      "Epoch 31/60\n",
      "450/450 [==============================] - 283s 630ms/step - loss: 0.1233 - accuracy: 0.9717 - val_loss: 0.4297 - val_accuracy: 0.9534\n",
      "Epoch 32/60\n",
      "450/450 [==============================] - 284s 630ms/step - loss: 0.1201 - accuracy: 0.9723 - val_loss: 0.4315 - val_accuracy: 0.9532\n",
      "Epoch 33/60\n",
      "450/450 [==============================] - 283s 630ms/step - loss: 0.1172 - accuracy: 0.9727 - val_loss: 0.4345 - val_accuracy: 0.9533\n",
      "Epoch 34/60\n",
      "450/450 [==============================] - 284s 631ms/step - loss: 0.1141 - accuracy: 0.9732 - val_loss: 0.4394 - val_accuracy: 0.9533\n",
      "Epoch 35/60\n",
      "450/450 [==============================] - 284s 630ms/step - loss: 0.1115 - accuracy: 0.9737 - val_loss: 0.4427 - val_accuracy: 0.9533\n",
      "Epoch 36/60\n",
      "450/450 [==============================] - 284s 631ms/step - loss: 0.1087 - accuracy: 0.9741 - val_loss: 0.4433 - val_accuracy: 0.9533\n",
      "Epoch 37/60\n",
      "450/450 [==============================] - 283s 630ms/step - loss: 0.1061 - accuracy: 0.9747 - val_loss: 0.4472 - val_accuracy: 0.9532\n",
      "Epoch 38/60\n",
      "450/450 [==============================] - 284s 631ms/step - loss: 0.1038 - accuracy: 0.9751 - val_loss: 0.4516 - val_accuracy: 0.9531\n",
      "Epoch 39/60\n",
      "450/450 [==============================] - 284s 631ms/step - loss: 0.1013 - accuracy: 0.9755 - val_loss: 0.4542 - val_accuracy: 0.9531\n",
      "Epoch 40/60\n",
      "450/450 [==============================] - 284s 630ms/step - loss: 0.0991 - accuracy: 0.9759 - val_loss: 0.4574 - val_accuracy: 0.9532\n",
      "Epoch 41/60\n",
      "450/450 [==============================] - 283s 630ms/step - loss: 0.0971 - accuracy: 0.9763 - val_loss: 0.4565 - val_accuracy: 0.9529\n",
      "Epoch 42/60\n",
      "450/450 [==============================] - 283s 629ms/step - loss: 0.0952 - accuracy: 0.9767 - val_loss: 0.4611 - val_accuracy: 0.9532\n",
      "Epoch 43/60\n",
      "450/450 [==============================] - 283s 630ms/step - loss: 0.0930 - accuracy: 0.9772 - val_loss: 0.4644 - val_accuracy: 0.9530\n",
      "Epoch 44/60\n",
      "450/450 [==============================] - 284s 630ms/step - loss: 0.0911 - accuracy: 0.9775 - val_loss: 0.4657 - val_accuracy: 0.9529\n",
      "Epoch 45/60\n",
      "450/450 [==============================] - 284s 631ms/step - loss: 0.0896 - accuracy: 0.9778 - val_loss: 0.4692 - val_accuracy: 0.9526\n",
      "Epoch 46/60\n",
      "450/450 [==============================] - 284s 631ms/step - loss: 0.0879 - accuracy: 0.9781 - val_loss: 0.4715 - val_accuracy: 0.9528\n",
      "Epoch 47/60\n",
      "450/450 [==============================] - 284s 631ms/step - loss: 0.0863 - accuracy: 0.9785 - val_loss: 0.4731 - val_accuracy: 0.9528\n",
      "Epoch 48/60\n",
      "450/450 [==============================] - 284s 630ms/step - loss: 0.0846 - accuracy: 0.9788 - val_loss: 0.4756 - val_accuracy: 0.9527\n",
      "Epoch 49/60\n",
      "450/450 [==============================] - 284s 632ms/step - loss: 0.0828 - accuracy: 0.9791 - val_loss: 0.4805 - val_accuracy: 0.9530\n",
      "Epoch 50/60\n",
      "450/450 [==============================] - 284s 630ms/step - loss: 0.0814 - accuracy: 0.9795 - val_loss: 0.4824 - val_accuracy: 0.9528\n",
      "Epoch 51/60\n",
      "450/450 [==============================] - 283s 630ms/step - loss: 0.0800 - accuracy: 0.9797 - val_loss: 0.4835 - val_accuracy: 0.9528\n",
      "Epoch 52/60\n",
      "450/450 [==============================] - 283s 630ms/step - loss: 0.0786 - accuracy: 0.9800 - val_loss: 0.4859 - val_accuracy: 0.9525\n",
      "Epoch 53/60\n",
      "450/450 [==============================] - 284s 630ms/step - loss: 0.0773 - accuracy: 0.9803 - val_loss: 0.4881 - val_accuracy: 0.9526\n",
      "Epoch 54/60\n",
      "450/450 [==============================] - 284s 630ms/step - loss: 0.0761 - accuracy: 0.9806 - val_loss: 0.4939 - val_accuracy: 0.9525\n",
      "Epoch 55/60\n",
      "450/450 [==============================] - 284s 632ms/step - loss: 0.0751 - accuracy: 0.9808 - val_loss: 0.4933 - val_accuracy: 0.9527\n",
      "Epoch 56/60\n",
      "450/450 [==============================] - 283s 630ms/step - loss: 0.0735 - accuracy: 0.9811 - val_loss: 0.4950 - val_accuracy: 0.9524\n",
      "Epoch 57/60\n",
      "450/450 [==============================] - 283s 630ms/step - loss: 0.0727 - accuracy: 0.9813 - val_loss: 0.4956 - val_accuracy: 0.9526\n",
      "Epoch 58/60\n",
      "450/450 [==============================] - 283s 630ms/step - loss: 0.0714 - accuracy: 0.9816 - val_loss: 0.5008 - val_accuracy: 0.9524\n",
      "Epoch 59/60\n",
      "450/450 [==============================] - 283s 630ms/step - loss: 0.0704 - accuracy: 0.9818 - val_loss: 0.5038 - val_accuracy: 0.9526\n",
      "Epoch 60/60\n",
      "450/450 [==============================] - 283s 629ms/step - loss: 0.0693 - accuracy: 0.9821 - val_loss: 0.5051 - val_accuracy: 0.9526\n"
     ]
    }
   ],
   "source": [
    "tmp_x = tmp_x.reshape((-1, preproc_french_sentences.shape[-2]))\n",
    "\n",
    "# Train\n",
    "model = bd_model(\n",
    "    tmp_x.shape,\n",
    "    preproc_english_sentences.shape[1],\n",
    "    len(english_tokenizer.word_index)+1,\n",
    "    len(french_tokenizer.word_index)+1)\n",
    "\n",
    "model.summary()\n",
    "\n",
    "history = model.fit(tmp_x, preproc_french_sentences, batch_size=32, epochs=60, validation_split=0.2)"
   ]
  },
  {
   "cell_type": "code",
   "execution_count": 19,
   "id": "1fad53e5",
   "metadata": {
    "execution": {
     "iopub.execute_input": "2023-10-24T19:47:29.251684Z",
     "iopub.status.busy": "2023-10-24T19:47:29.251346Z",
     "iopub.status.idle": "2023-10-24T19:47:30.063428Z",
     "shell.execute_reply": "2023-10-24T19:47:30.062615Z"
    },
    "papermill": {
     "duration": 2.980832,
     "end_time": "2023-10-24T19:47:30.065672",
     "exception": false,
     "start_time": "2023-10-24T19:47:27.084840",
     "status": "completed"
    },
    "tags": []
   },
   "outputs": [],
   "source": [
    "model.save('translation_model.h5')"
   ]
  },
  {
   "cell_type": "code",
   "execution_count": 20,
   "id": "8fdd4d8d",
   "metadata": {
    "execution": {
     "iopub.execute_input": "2023-10-24T19:47:34.412355Z",
     "iopub.status.busy": "2023-10-24T19:47:34.411977Z",
     "iopub.status.idle": "2023-10-24T19:47:34.458510Z",
     "shell.execute_reply": "2023-10-24T19:47:34.457573Z"
    },
    "papermill": {
     "duration": 2.3118,
     "end_time": "2023-10-24T19:47:34.460633",
     "exception": false,
     "start_time": "2023-10-24T19:47:32.148833",
     "status": "completed"
    },
    "tags": []
   },
   "outputs": [],
   "source": [
    "import pickle\n",
    "\n",
    "with open('eng_tokenizer.pickle', 'wb') as handle:\n",
    "    pickle.dump(english_tokenizer, handle, protocol=pickle.HIGHEST_PROTOCOL)\n",
    "with open('fr_tokenizer.pickle', 'wb') as handle:\n",
    "    pickle.dump(french_tokenizer, handle, protocol=pickle.HIGHEST_PROTOCOL)\n",
    "    "
   ]
  },
  {
   "cell_type": "code",
   "execution_count": 21,
   "id": "4dfc35f0",
   "metadata": {
    "execution": {
     "iopub.execute_input": "2023-10-24T19:47:38.743089Z",
     "iopub.status.busy": "2023-10-24T19:47:38.742701Z",
     "iopub.status.idle": "2023-10-24T19:47:39.222303Z",
     "shell.execute_reply": "2023-10-24T19:47:39.221131Z"
    },
    "id": "bdY7DBVQksvf",
    "outputId": "2fc910eb-ac7d-469d-cde0-d6ba465abce4",
    "papermill": {
     "duration": 2.554372,
     "end_time": "2023-10-24T19:47:39.224291",
     "exception": false,
     "start_time": "2023-10-24T19:47:36.669919",
     "status": "completed"
    },
    "tags": []
   },
   "outputs": [
    {
     "name": "stdout",
     "output_type": "stream",
     "text": [
      "1/1 [==============================] - 0s 355ms/step\n",
      "Prediction:\n",
      "les club est très actif et organise à deux occasions de 1990 et le le congrès annuel de la fédération de astronomes amateurs québec québec                                                                                                                                                                                                                                                                                                                                                                                                                                                                                                                                                                                                                                                                                                                                                                                                                                                                                        \n",
      "\n",
      "Correct Translation:\n",
      "le club est très actif et organise à deux occasions (en 1990 et 1997) le congrès annuel de la fédération des astronomes amateurs du québec.\n",
      "\n",
      "Original text:\n",
      "the club was very active and they twice organized the annual conference of the amateur astronomy federation of quebec in 1990 and 1997.\n",
      "\n",
      "\n",
      "\n",
      "BLEU SCORE:\n",
      "\n",
      "0.5592598868912486\n"
     ]
    }
   ],
   "source": [
    "i= 1\n",
    "\n",
    "prediction= [logits_to_text(model.predict(tmp_x[[i]])[0], french_tokenizer)]\n",
    "correct_translation = eng_fr[\"fr\"].tolist()[i]\n",
    "joined_text = ''.join(correct_translation)\n",
    "correct_list = joined_text.split()\n",
    "\n",
    "print(\"Prediction:\")\n",
    "print(prediction[0])\n",
    "print(\"\\nCorrect Translation:\")\n",
    "print(correct_translation)\n",
    "print(\"\\nOriginal text:\")\n",
    "print(eng_fr[\"en\"].tolist()[i])\n",
    "print(\"\\n\\n\")\n",
    "\n",
    "\n",
    "BLEUscore = nltk.translate.bleu_score.sentence_bleu([correct_list], prediction[0].split())\n",
    "print(\"BLEU SCORE:\\n\")\n",
    "print(BLEUscore)"
   ]
  },
  {
   "cell_type": "code",
   "execution_count": null,
   "id": "b05fa3fd",
   "metadata": {
    "id": "1vyf45_civ8S",
    "papermill": {
     "duration": 2.126139,
     "end_time": "2023-10-24T19:47:43.542287",
     "exception": false,
     "start_time": "2023-10-24T19:47:41.416148",
     "status": "completed"
    },
    "tags": []
   },
   "outputs": [],
   "source": []
  }
 ],
 "metadata": {
  "kernelspec": {
   "display_name": "Python 3",
   "language": "python",
   "name": "python3"
  },
  "language_info": {
   "codemirror_mode": {
    "name": "ipython",
    "version": 3
   },
   "file_extension": ".py",
   "mimetype": "text/x-python",
   "name": "python",
   "nbconvert_exporter": "python",
   "pygments_lexer": "ipython3",
   "version": "3.10.12"
  },
  "papermill": {
   "default_parameters": {},
   "duration": 17093.042717,
   "end_time": "2023-10-24T19:47:49.127975",
   "environment_variables": {},
   "exception": null,
   "input_path": "__notebook__.ipynb",
   "output_path": "__notebook__.ipynb",
   "parameters": {},
   "start_time": "2023-10-24T15:02:56.085258",
   "version": "2.4.0"
  }
 },
 "nbformat": 4,
 "nbformat_minor": 5
}
